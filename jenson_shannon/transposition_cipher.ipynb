{
 "cells": [
  {
   "cell_type": "code",
   "execution_count": 1,
   "id": "92ad9213",
   "metadata": {},
   "outputs": [],
   "source": [
    "ALPH = \"ABCDEFGHIJKLMNOPQRSTUVWXYZ\""
   ]
  },
  {
   "cell_type": "code",
   "execution_count": 2,
   "id": "5bc717d5",
   "metadata": {},
   "outputs": [],
   "source": [
    "import random, math, numpy as np, pandas as pd, matplotlib.pyplot as plt\n",
    "from collections import Counter"
   ]
  },
  {
   "cell_type": "code",
   "execution_count": null,
   "id": "bf22fdf0",
   "metadata": {},
   "outputs": [],
   "source": [
    "\n",
    "# from caas_jupyter_tools import #display_dataframe_to_user\n",
    "\n",
    "# If sympy is needed for Hill:\n",
    "try:\n",
    "    from sympy import Matrix\n",
    "except Exception:\n",
    "    Matrix = None\n",
    "\n",
    "# ----------------------------\n",
    "# Shared metric functions\n",
    "# ----------------------------\n",
    "_eps = 1e-12\n",
    "def _entropy_from_counts(counts, base=2):\n",
    "    total = sum(counts.values())\n",
    "    if total == 0: return 0.0\n",
    "    H = 0.0\n",
    "    for v in counts.values():\n",
    "        p = v/total\n",
    "        if p>0:\n",
    "            H -= p * math.log(p, base)\n",
    "    return H\n",
    "\n",
    "def jensen_shannon_divergence(p_counts, q_counts, base=2):\n",
    "    all_keys = set(p_counts.keys()) | set(q_counts.keys())\n",
    "    Np, Nq = sum(p_counts.values()) or 1, sum(q_counts.values()) or 1\n",
    "    m = {}\n",
    "    for k in all_keys:\n",
    "        m[k] = (p_counts.get(k,0)/Np + q_counts.get(k,0)/Nq) / 2.0\n",
    "    kl_pm = 0.0; kl_qm = 0.0\n",
    "    for k in all_keys:\n",
    "        p = p_counts.get(k,0)/Np; q = q_counts.get(k,0)/Nq; mm = m[k]\n",
    "        if p>0: kl_pm += p * math.log((p+_eps)/(mm+_eps), base)\n",
    "        if q>0: kl_qm += q * math.log((q+_eps)/(mm+_eps), base)\n",
    "    return 0.5*(kl_pm+kl_qm)\n",
    "\n",
    "def mutual_information_pairs(pairs, base=2):\n",
    "    N = len(pairs)\n",
    "    if N==0: return 0.0\n",
    "    joint = Counter(pairs)\n",
    "    X = Counter(x for x,_ in pairs); Y = Counter(y for _,y in pairs)\n",
    "    mi = 0.0\n",
    "    for (x,y),n in joint.items():\n",
    "        p_xy = n/N; p_x = X[x]/N; p_y = Y[y]/N\n",
    "        mi += p_xy * math.log((p_xy+_eps)/(p_x*p_y+_eps), base)\n",
    "    return mi\n",
    "\n",
    "def confusion_jsd_avg(cipher_fun, plaintext, keyspace, sample_pairs=200, base=2):\n",
    "    if len(keyspace) < 2: return 0.0\n",
    "    total = 0.0; count = 0\n",
    "    # If keyspace small, enumerate pairs; else sample\n",
    "    for _ in range(sample_pairs):\n",
    "        k1, k2 = random.sample(keyspace, 2)\n",
    "        c1 = cipher_fun(plaintext, k1)\n",
    "        c2 = cipher_fun(plaintext, k2)\n",
    "        total += jensen_shannon_divergence(Counter(c1), Counter(c2), base=base)\n",
    "        count += 1\n",
    "    return total/count if count else 0.0\n",
    "\n",
    "def diffusion_via_bigram_leakage(cipher_fun, plaintext, key, base=2):\n",
    "    pt = \"\".join(ch for ch in plaintext.upper() if ch.isalnum())\n",
    "    grams = [pt[i:i+2] for i in range(len(pt)-1)]\n",
    "    if not grams:\n",
    "        return 0.0\n",
    "    C = cipher_fun(pt, key)\n",
    "    L = min(len(grams), len(C))\n",
    "    pairs = [(grams[i], C[i]) for i in range(L)]\n",
    "    mi = mutual_information_pairs(pairs, base=base)\n",
    "    H = _entropy_from_counts(Counter(grams), base=base)\n",
    "    return 1.0 - (mi / H if H > 0 else 0.0)\n",
    "\n",
    "def cdci_linear(alpha, C, D): return alpha*C + (1.0-alpha)*D\n",
    "\n",
    "def compute_cdci_for_cipher(cipher_func, plaintexts, fixed_key, keyspace, alpha=0.5, sample_pairs=200):\n",
    "    Cs = []; Ds = []\n",
    "    for pt in plaintexts:\n",
    "        C_val = confusion_jsd_avg(cipher_func, pt, keyspace, sample_pairs=sample_pairs)\n",
    "        D_val = diffusion_via_bigram_leakage(cipher_func, pt, fixed_key)\n",
    "        Cs.append(C_val); Ds.append(D_val)\n",
    "    C_mean = float(np.mean(Cs)); D_mean = float(np.mean(Ds))\n",
    "    return {'C':C_mean, 'D':D_mean, 'CDCI': cdci_linear(alpha, C_mean, D_mean), 'C_per_plain': Cs, 'D_per_plain': Ds}\n",
    "\n",
    "# Generic helper metrics reused in each block\n",
    "def fraction_changed(a, b):\n",
    "    L = min(len(a), len(b))\n",
    "    return sum(x!=y for x,y in zip(a[:L], b[:L])) / L if L else 0.0\n",
    "\n",
    "def symbol_diffusion_index(cipher_func, plaintext, key, alphabet, trials=20):\n",
    "    base_ct = cipher_func(plaintext, key)\n",
    "    results = []\n",
    "    pt_filtered = \"\".join(ch for ch in plaintext.upper() if ch.isalnum())\n",
    "    if len(pt_filtered) == 0:\n",
    "        return 0.0, 0.0\n",
    "    for _ in range(trials):\n",
    "        i = random.randrange(len(pt_filtered))\n",
    "        new_char = random.choice([c for c in alphabet if c != pt_filtered[i]])\n",
    "        P2 = pt_filtered[:i] + new_char + pt_filtered[i+1:]\n",
    "        C2 = cipher_func(P2, key)\n",
    "        results.append(fraction_changed(base_ct, C2))\n",
    "    return float(np.mean(results)), float(np.std(results)) if len(results)>1 else 0.0\n",
    "\n",
    "def compute_ksi(cipher_func, plaintext, key, key_variant):\n",
    "    C1 = cipher_func(plaintext, key)\n",
    "    C2 = cipher_func(plaintext, key_variant)\n",
    "    return fraction_changed(C1, C2)\n",
    "\n",
    "def compute_mi_from_plain_cipher_lists(plain_list, cipher_list):\n",
    "    conc_plain = \"\".join( \"\".join(ch for ch in p.upper() if ch.isalnum()) for p in plain_list )\n",
    "    conc_cipher = \"\".join(cipher_list)\n",
    "    L = min(len(conc_plain), len(conc_cipher))\n",
    "    pairs = list(zip(conc_plain[:L], conc_cipher[:L]))\n",
    "    return mutual_information_pairs(pairs)\n",
    "\n",
    "def compute_chi_entropy(ciphertexts, alphabet):\n",
    "    text = \"\".join(ciphertexts)\n",
    "    N = len(text)\n",
    "    if N == 0: return 0.0, 0.0\n",
    "    counts = Counter(text)\n",
    "    expected = N / len(alphabet)\n",
    "    chi2 = sum((counts[a] - expected)**2 / expected for a in alphabet)\n",
    "    entropy = -sum((counts[a]/N) * math.log2(counts[a]/N) for a in counts if counts[a]>0)\n",
    "    return chi2, entropy\n",
    "\n",
    "def bootstrap_mi(pairs, n_boot=300, alpha=0.05):\n",
    "    N = len(pairs)\n",
    "    if N == 0: return 0.0, (0.0, 0.0)\n",
    "    estimates = []\n",
    "    for _ in range(n_boot):\n",
    "        sample = [pairs[random.randrange(N)] for _ in range(N)]\n",
    "        estimates.append(mutual_information_pairs(sample))\n",
    "    estimates.sort()\n",
    "    low = estimates[int((alpha/2)*n_boot)]\n",
    "    high = estimates[int((1-alpha/2)*n_boot)]\n",
    "    return np.mean(estimates), (low, high)"
   ]
  },
  {
   "cell_type": "code",
   "execution_count": 3,
   "id": "81fdbbf7",
   "metadata": {},
   "outputs": [],
   "source": [
    "# ----------------------------\n",
    "# 4) Columnar Transposition\n",
    "# ----------------------------\n",
    "def columnar_transposition_encrypt(text, key):\n",
    "    txt = \"\".join(ch for ch in text.upper() if ch.isalnum())\n",
    "    n = len(key)\n",
    "    rows = (len(txt) + n - 1) // n\n",
    "    padded = txt + \"X\"*(rows*n - len(txt))\n",
    "    matrix = [padded[i*n:(i+1)*n] for i in range(rows)]\n",
    "    order = sorted(range(n), key=lambda i: key[i])\n",
    "    ciphertext = \"\".join(\"\".join(row[j] for row in matrix) for j in order)\n",
    "    return ciphertext\n",
    "\n",
    "def random_trans_key(min_len=4, max_len=8):\n",
    "    length = random.randint(min_len, max_len)\n",
    "    return \"\".join(random.choice(ALPH) for _ in range(length))\n",
    "\n",
    "def perturb_trans_key(key):\n",
    "    k = list(key)\n",
    "    if len(k) < 2: return key\n",
    "    i,j = random.sample(range(len(k)),2); k[i],k[j]=k[j],k[i]\n",
    "    return \"\".join(k)\n",
    "\n",
    "def evaluate_transposition(num_texts=5, length=200, fixed_key=\"ZEBRA\", random_key_count=10, alpha=0.5):\n",
    "    plaintexts = [ \"\".join(random.choice(ALPH) for _ in range(length)) for _ in range(num_texts) ]\n",
    "    plaintexts[0] = (\"ATTACKATDAWNATTACKATDAWN123123123!!!THEEAGLEHASLANDED_THEEAGLEHASLANDED###MEETMEATTHEUSUALPLACEATNINEPM999999999HELLOHELLOWORLDWORLDCRYPTOGRAPHYCRYPTOGRAPHYCRYPTOGRAPHYTESTING1234567890TESTINGAAAAAAAAAABBBBBBBBBBCCCCCCCCCCDDDDDDDDDDEEEEEEEEEEEEFFFFFFFFFF\" * 6)[:length]\n",
    "    keyspace = [random_trans_key() for _ in range(120)]\n",
    "\n",
    "    fixed_metrics = {}\n",
    "    sdi_vals=[]; ksi_vals=[]; mi_vals=[]; chi_vals=[]; ent_vals=[]; mi_boot=[]\n",
    "    for pt in plaintexts:\n",
    "        sm,ss = symbol_diffusion_index(columnar_transposition_encrypt, pt, fixed_key, ALPH)\n",
    "        sdi_vals.append(sm); ksi_vals.append(compute_ksi(columnar_transposition_encrypt, pt, fixed_key, perturb_trans_key(fixed_key)))\n",
    "        C = columnar_transposition_encrypt(pt, fixed_key)\n",
    "        mi_vals.append(compute_mi_from_plain_cipher_lists([pt],[C])); chi,H = compute_chi_entropy([C], ALPH)\n",
    "        chi_vals.append(chi); ent_vals.append(H)\n",
    "        mb,_ = bootstrap_mi(list(zip(\"\".join(ch for ch in pt.upper() if ch.isalnum()), C[:len(pt)])), n_boot=150)\n",
    "        mi_boot.append(mb)\n",
    "    cdci_out = compute_cdci_for_cipher(columnar_transposition_encrypt, plaintexts, fixed_key, keyspace, alpha=alpha)\n",
    "    fixed_metrics.update({\n",
    "        'SDI_mean': np.mean(sdi_vals), 'KSI_mean': np.mean(ksi_vals), 'MI_mean': np.mean(mi_vals),\n",
    "        'Chi2_mean': np.mean(chi_vals), 'Entropy_mean': np.mean(ent_vals), 'MI_boot_mean': np.mean(mi_boot),\n",
    "        'C': cdci_out['C'], 'D': cdci_out['D'], 'CDCI': cdci_out['CDCI']\n",
    "    })\n",
    "    fixed_df = pd.DataFrame([fixed_metrics])\n",
    "\n",
    "    random_keys = [random_trans_key() for _ in range(random_key_count)]\n",
    "    rand_records=[]\n",
    "    for rk in random_keys:\n",
    "        sdi_vals=[]; ksi_vals=[]; mi_vals=[]; chi_vals=[]; ent_vals=[]; mi_boot=[]\n",
    "        for pt in plaintexts:\n",
    "            sm,ss = symbol_diffusion_index(columnar_transposition_encrypt, pt, rk, ALPH)\n",
    "            sdi_vals.append(sm); ksi_vals.append(compute_ksi(columnar_transposition_encrypt, pt, rk, perturb_trans_key(rk)))\n",
    "            C = columnar_transposition_encrypt(pt, rk)\n",
    "            mi_vals.append(compute_mi_from_plain_cipher_lists([pt],[C])); chi,H = compute_chi_entropy([C], ALPH)\n",
    "            chi_vals.append(chi); ent_vals.append(H)\n",
    "            mb,_ = bootstrap_mi(list(zip(\"\".join(ch for ch in pt.upper() if ch.isalnum()), C[:len(pt)])), n_boot=120)\n",
    "            mi_boot.append(mb)\n",
    "        cdci_out = compute_cdci_for_cipher(columnar_transposition_encrypt, plaintexts, rk, keyspace, alpha=alpha)\n",
    "        rand_records.append({\n",
    "            'key': rk, 'SDI_mean': np.mean(sdi_vals), 'KSI_mean': np.mean(ksi_vals),\n",
    "            'MI_mean': np.mean(mi_vals), 'Chi2_mean': np.mean(chi_vals), 'Entropy_mean': np.mean(ent_vals),\n",
    "            'MI_boot_mean': np.mean(mi_boot), 'C': cdci_out['C'], 'D': cdci_out['D'], 'CDCI': cdci_out['CDCI']\n",
    "        })\n",
    "    random_df = pd.DataFrame(rand_records)\n",
    "    summary = pd.DataFrame({\n",
    "        'mode':['fixed','random_mean'],\n",
    "        'SDI_mean':[fixed_metrics['SDI_mean'], random_df['SDI_mean'].mean()],\n",
    "        'KSI_mean':[fixed_metrics['KSI_mean'], random_df['KSI_mean'].mean()],\n",
    "        'MI_mean':[fixed_metrics['MI_mean'], random_df['MI_mean'].mean()],\n",
    "        'Entropy_mean':[fixed_metrics['Entropy_mean'], random_df['Entropy_mean'].mean()],\n",
    "        'CDCI':[fixed_metrics['CDCI'], random_df['CDCI'].mean()],\n",
    "        'C_index':[fixed_metrics['C'], random_df['C'].mean()],\n",
    "        'D_index':[fixed_metrics['D'], random_df['D'].mean()]\n",
    "    })\n",
    "\n",
    "    #display_dataframe_to_user(\"Transposition - Fixed\", fixed_df)\n",
    "    #display_dataframe_to_user(\"Transposition - Random\", random_df)\n",
    "    #display_dataframe_to_user(\"Transposition - Summary\", summary)\n",
    "\n",
    "    # plots\n",
    "    x = np.arange(len(summary)); width=0.25\n",
    "    fig, ax = plt.subplots(figsize=(7,4))\n",
    "    ax.bar(x-width, summary['CDCI'], width, label='CDCI')\n",
    "    ax.bar(x, summary['C_index'], width, label='C-index')\n",
    "    ax.bar(x+width, summary['D_index'], width, label='D-index')\n",
    "    ax.set_xticks(x); ax.set_xticklabels(summary['mode']); ax.set_ylabel('Score'); ax.set_title('Transposition: CDCI / C / D'); ax.legend(); plt.show()\n",
    "\n",
    "    # fixed_df.to_csv('../mnt/data/transposition_fixed.csv', index=False)\n",
    "    # random_df.to_csv('../mnt/data/transposition_random.csv', index=False)\n",
    "    # summary.to_csv('../mnt/data/transposition_summary.csv', index=False)\n",
    "    print(\"Transposition saved to ./mnt/data/transposition_*.csv\")\n",
    "    return fixed_df, random_df, summary"
   ]
  },
  {
   "cell_type": "code",
   "execution_count": 4,
   "id": "5947dad6",
   "metadata": {},
   "outputs": [
    {
     "data": {
      "image/png": "[encoded data removed]",
      "text/plain": [
       "<Figure size 700x400 with 1 Axes>"
      ]
     },
     "metadata": {},
     "output_type": "display_data"
    },
    {
     "name": "stdout",
     "output_type": "stream",
     "text": [
      "Transposition saved to ./mnt/data/transposition_*.csv\n"
     ]
    },
    {
     "data": {
      "text/plain": [
       "(   SDI_mean  KSI_mean   MI_mean  Chi2_mean  Entropy_mean  MI_boot_mean  \\\n",
       " 0  0.005026  0.379744  1.834403  50.233333      4.569848      2.325775   \n",
       " \n",
       "           C         D      CDCI  \n",
       " 0  0.000698  0.426867  0.213782  ,\n",
       "         key  SDI_mean  KSI_mean   MI_mean  Chi2_mean  Entropy_mean  \\\n",
       " 0      ZTPK  0.005020  0.473755  1.823555  49.857551      4.571817   \n",
       " 1     GANZB  0.005026  0.377744  1.826131  50.233333      4.569848   \n",
       " 2     HUKRL  0.005026  0.375692  1.817177  50.233333      4.569848   \n",
       " 3   EMMARFP  0.004961  0.241942  1.805760  49.905137      4.572259   \n",
       " 4    QDLDAZ  0.004932  0.256684  1.836459  49.724183      4.573685   \n",
       " 5  IWIWKHWY  0.005000  0.277000  1.830512  48.892000      4.575695   \n",
       " 6    XRRUOS  0.004932  0.339840  1.801716  49.724183      4.573685   \n",
       " 7  JXCREQBG  0.005000  0.230000  1.825070  48.892000      4.575695   \n",
       " 8    RZMFIO  0.004932  0.307546  1.840329  49.724183      4.573685   \n",
       " 9     SYFTK  0.005026  0.379795  1.817143  50.233333      4.569848   \n",
       " \n",
       "    MI_boot_mean         C         D      CDCI  \n",
       " 0      2.330357  0.000723  0.429366  0.215044  \n",
       " 1      2.323755  0.000764  0.427791  0.214277  \n",
       " 2      2.332322  0.000706  0.425912  0.213309  \n",
       " 3      2.319947  0.000766  0.428434  0.214600  \n",
       " 4      2.337191  0.000751  0.426790  0.213771  \n",
       " 5      2.328901  0.000738  0.426982  0.213860  \n",
       " 6      2.309408  0.000709  0.424898  0.212803  \n",
       " 7      2.324724  0.000695  0.426567  0.213631  \n",
       " 8      2.333250  0.000737  0.427320  0.214028  \n",
       " 9      2.325394  0.000754  0.427349  0.214052  ,\n",
       "           mode  SDI_mean  KSI_mean   MI_mean  Entropy_mean      CDCI  \\\n",
       " 0        fixed  0.005026  0.379744  1.834403      4.569848  0.213782   \n",
       " 1  random_mean  0.004985  0.326000  1.822385      4.572607  0.213938   \n",
       " \n",
       "     C_index   D_index  \n",
       " 0  0.000698  0.426867  \n",
       " 1  0.000734  0.427141  )"
      ]
     },
     "execution_count": 4,
     "metadata": {},
     "output_type": "execute_result"
    }
   ],
   "source": [
    "evaluate_transposition()"
   ]
  },
  {
   "cell_type": "code",
   "execution_count": 3,
   "id": "6cac53f7",
   "metadata": {},
   "outputs": [],
   "source": [
    "class TranspositionCipher:\n",
    "    def __init__(self, key):\n",
    "        self.key = key\n",
    "        self.alphabet = ALPH\n",
    "        self.char_to_num = {char: i for i, char in enumerate(self.alphabet)}\n",
    "        self.num_to_char = {i: char for i, char in enumerate(self.alphabet)}\n",
    "\n",
    "    def columnar_transposition_encrypt(self,text, key):\n",
    "        txt = \"\".join(ch for ch in text.upper() if ch.isalnum())\n",
    "        n = len(key)\n",
    "        rows = (len(txt) + n - 1) // n\n",
    "        padded = txt + \"X\"*(rows*n - len(txt))\n",
    "        matrix = [padded[i*n:(i+1)*n] for i in range(rows)]\n",
    "        order = sorted(range(n), key=lambda i: key[i])\n",
    "        ciphertext = \"\".join(\"\".join(row[j] for row in matrix) for j in order)\n",
    "        return ciphertext\n",
    "\n",
    "    def encrypt(self, plaintext):\n",
    "        return self.columnar_transposition_encrypt(plaintext, self.key)"
   ]
  },
  {
   "cell_type": "code",
   "execution_count": 4,
   "id": "53978f29",
   "metadata": {},
   "outputs": [],
   "source": [
    "def measure_positional_diffusion(cipher_object, plaintext, num_trials=50):\n",
    "    \"\"\"\n",
    "    Measures the positional predictability of changes in ciphertext.\n",
    "    A lower score indicates more predictable changes (poor diffusion).\n",
    "    \"\"\"\n",
    "    original_ciphertext = cipher_object.encrypt(plaintext)\n",
    "    cipher_len = len(original_ciphertext)\n",
    "    \n",
    "    changed_positions_all = []\n",
    "    \n",
    "    for _ in range(num_trials):\n",
    "        # Create an incremental plaintext change\n",
    "        modified_plaintext = list(plaintext)\n",
    "        pos = random.randint(0, len(plaintext) - 1)\n",
    "        modified_plaintext[pos] = random.choice(cipher_object.alphabet)\n",
    "        modified_plaintext = \"\".join(modified_plaintext)\n",
    "        \n",
    "        try:\n",
    "            modified_ciphertext = cipher_object.encrypt(modified_plaintext)\n",
    "        except Exception:\n",
    "            continue\n",
    "        \n",
    "        changed_positions = [i for i, (c1, c2) in enumerate(zip(original_ciphertext, modified_ciphertext)) if c1 != c2]\n",
    "        changed_positions_all.extend(changed_positions)\n",
    "    \n",
    "    if not changed_positions_all:\n",
    "        return 0.0 # No changes were detected\n",
    "    \n",
    "    # Calculate a measure of distribution (e.g., variance of position indices)\n",
    "    # A high variance indicates changes are scattered, low variance indicates clustering\n",
    "    variance = np.var(changed_positions_all)\n",
    "    \n",
    "    # Normalize the score (you can adjust this formula)\n",
    "    max_possible_variance = (cipher_len**2 - 1) / 12 # Variance of a uniform distribution\n",
    "    normalized_score = variance / max_possible_variance\n",
    "    \n",
    "    return normalized_score\n",
    "\n",
    "# Example Usage\n",
    "# hill_cipher_obj = HillCipher(key=\"YOURKEY\", n=3)\n",
    "# score = measure_positional_diffusion(hill_cipher_obj, \"ATTACKATDAWN\")\n",
    "# print(f\"Positional Diffusion Score: {score:.2f}\")\n",
    "\n",
    "def measure_value_confusion(cipher_object, plaintext, num_trials=50):\n",
    "    \"\"\"\n",
    "    Measures the predictability of the character values that change.\n",
    "    A lower score indicates more predictable changes (poor confusion).\n",
    "    \"\"\"\n",
    "    original_ciphertext = cipher_object.encrypt(plaintext)\n",
    "    value_differences_all = []\n",
    "    \n",
    "    original_key = cipher_object.key\n",
    "    \n",
    "    for _ in range(num_trials):\n",
    "        # Create an incremental key change\n",
    "        modified_key = list(original_key)\n",
    "        pos = random.randint(0, len(original_key) - 1)\n",
    "        modified_key[pos] = random.choice(cipher_object.alphabet)\n",
    "        modified_key = \"\".join(modified_key)\n",
    "        \n",
    "        try:\n",
    "            modified_cipher_obj = TranspositionCipher(key=modified_key)\n",
    "            modified_ciphertext = modified_cipher_obj.encrypt(plaintext)\n",
    "        except (ValueError, IndexError):\n",
    "            continue\n",
    "            \n",
    "        # Calculate the numerical difference for changed characters\n",
    "        diffs = [\n",
    "            abs(cipher_object.char_to_num[c1] - cipher_object.char_to_num[c2])\n",
    "            for c1, c2 in zip(original_ciphertext, modified_ciphertext) if c1 != c2\n",
    "        ]\n",
    "        value_differences_all.extend(diffs)\n",
    "    \n",
    "    if not value_differences_all:\n",
    "        return 0.0 # No changes were detected\n",
    "        \n",
    "    # Calculate a measure of uniformity or randomness, like normalized entropy\n",
    "    # A high entropy indicates a wide, unpredictable range of changes\n",
    "    counts = Counter(value_differences_all)\n",
    "    probabilities = np.array(list(counts.values())) / len(value_differences_all)\n",
    "    entropy = -np.sum(probabilities * np.log2(probabilities))\n",
    "    \n",
    "    max_entropy = np.log2(len(set(value_differences_all)))\n",
    "    if max_entropy == 0:\n",
    "        return 0.0\n",
    "        \n",
    "    normalized_entropy = entropy / max_entropy\n",
    "    \n",
    "    return normalized_entropy"
   ]
  },
  {
   "cell_type": "code",
   "execution_count": 7,
   "id": "a5aa0954",
   "metadata": {},
   "outputs": [
    {
     "name": "stdout",
     "output_type": "stream",
     "text": [
      "Character Value Confusion Score: 0.92\n"
     ]
    }
   ],
   "source": [
    "transposition_cipher_obj = TranspositionCipher(key=\"CharacterValueConfusionScore\")\n",
    "value_confusion_score = measure_value_confusion(transposition_cipher_obj, \"AdistributedsystemisacollectionofindependententitiesthatcooperatetosolveaproblemthatcannotbeindividuallysolvedDistributedsystemshavebeeninexistencesincethestartoftheuniverseFromaschooloffishtoaflockofbirdsandentireecosystemsofmicroorganismsthereiscommunicationamongmobileintelligentagentsinnatureWiththewidespreadproliferationoftheinternetandtheemergingglobalvillagethenotionofdistributedcomputingsystemsasausefulandwidelydeployedtoolisbecomingareality\")\n",
    "print(f\"Character Value Confusion Score: {value_confusion_score:.2f}\")"
   ]
  },
  {
   "cell_type": "code",
   "execution_count": 8,
   "id": "3a84b6aa",
   "metadata": {},
   "outputs": [
    {
     "name": "stdout",
     "output_type": "stream",
     "text": [
      "Positional Diffusion Score: 0.95\n"
     ]
    }
   ],
   "source": [
    "positional_diffusion_score = measure_positional_diffusion(transposition_cipher_obj, \"AdistributedsystemisacollectionofindependententitiesthatcooperatetosolveaproblemthatcannotbeindividuallysolvedDistributedsystemshavebeeninexistencesincethestartoftheuniverseFromaschooloffishtoaflockofbirdsandentireecosystemsofmicroorganismsthereiscommunicationamongmobileintelligentagentsinnatureWiththewidespreadproliferationoftheinternetandtheemergingglobalvillagethenotionofdistributedcomputingsystemsasausefulandwidelydeployedtoolisbecomingareality\")\n",
    "print(f\"Positional Diffusion Score: {positional_diffusion_score:.2f}\")"
   ]
  },
  {
   "cell_type": "code",
   "execution_count": 9,
   "id": "093e14c5",
   "metadata": {},
   "outputs": [
    {
     "name": "stdout",
     "output_type": "stream",
     "text": [
      "DC Score: 0.93\n"
     ]
    }
   ],
   "source": [
    "\n",
    "num = 2*value_confusion_score*positional_diffusion_score\n",
    "din = value_confusion_score + positional_diffusion_score\n",
    "DC = num / din\n",
    "print(f\"DC Score: {DC:.2f}\")"
   ]
  },
  {
   "cell_type": "code",
   "execution_count": 5,
   "id": "7967a292",
   "metadata": {},
   "outputs": [
    {
     "name": "stdout",
     "output_type": "stream",
     "text": [
      "Character Value Confusion Score: 0.92\n",
      "Positional Diffusion Score: 1.03\n"
     ]
    }
   ],
   "source": [
    "transposition_cipher_obj_1 = TranspositionCipher(key=\"CharacterValueConfusionScore\")\n",
    "value_confusion_score = measure_value_confusion(transposition_cipher_obj_1, \"AdistributedsystemisacollectionofindependententitiesthatcooperatetosolveaproblemthatcannotbeindividuallysolvedDistributedsystemshavebeeninexistencesincethestartoftheuniverseFromaschooloffishtoaflockofbirdsandentireecosystemsofmicroorganismsthereiscommunicationamongmobileintelligentagentsinnatureWiththewidespreadproliferationoftheinternetandtheemergingglobalvillagethenotionofdistributedcomputingsystemsasausefulandwidelydeployedtoolisbecomingareality\",num_trials= 100)\n",
    "print(f\"Character Value Confusion Score: {value_confusion_score:.2f}\")\n",
    "positional_diffusion_score = measure_positional_diffusion(transposition_cipher_obj_1, \"AdistributedsystemisacollectionofindependententitiesthatcooperatetosolveaproblemthatcannotbeindividuallysolvedDistributedsystemshavebeeninexistencesincethestartoftheuniverseFromaschooloffishtoaflockofbirdsandentireecosystemsofmicroorganismsthereiscommunicationamongmobileintelligentagentsinnatureWiththewidespreadproliferationoftheinternetandtheemergingglobalvillagethenotionofdistributedcomputingsystemsasausefulandwidelydeployedtoolisbecomingareality\",num_trials=100)\n",
    "print(f\"Positional Diffusion Score: {positional_diffusion_score:.2f}\")"
   ]
  },
  {
   "cell_type": "code",
   "execution_count": 7,
   "id": "2afaa3df",
   "metadata": {},
   "outputs": [
    {
     "name": "stdout",
     "output_type": "stream",
     "text": [
      "DC Score: 0.97\n"
     ]
    }
   ],
   "source": [
    "num = 2*value_confusion_score*positional_diffusion_score\n",
    "din = value_confusion_score + positional_diffusion_score\n",
    "DC = num / din\n",
    "print(f\"DC Score: {DC:.2f}\")"
   ]
  },
  {
   "cell_type": "code",
   "execution_count": null,
   "id": "9cad031b",
   "metadata": {},
   "outputs": [],
   "source": [
    "# key = \"CharacterValueConfusionScore\"\n",
    "# Character Value Confusion Score: 0.92\n",
    "# Positional Diffusion Score: 1.02\n",
    "\n",
    "#plaintext - AdistributedsystemisacollectionofindependententitiesthatcooperatetosolveaproblemthatcannotbeindividuallysolvedDistributedsystemshavebeeninexistencesincethestartoftheuniverseFromaschooloffishtoaflockofbirdsandentireecosystemsofmicroorganismsthereiscommunicationamongmobileintelligentagentsinnatureWiththewidespreadproliferationoftheinternetandtheemergingglobalvillagethenotionofdistributedcomputingsystemsasausefulandwidelydeployedtoolisbecomingareality\n",
    "# Character Value Confusion Score: 0.92\n",
    "# Positional Diffusion Score: 0.95\n",
    "# DC Score: 0.93"
   ]
  },
  {
   "cell_type": "code",
   "execution_count": 11,
   "id": "d8ff7217",
   "metadata": {},
   "outputs": [
    {
     "data": {
      "text/plain": [
       "452"
      ]
     },
     "execution_count": 11,
     "metadata": {},
     "output_type": "execute_result"
    }
   ],
   "source": [
    "len(\"AdistributedsystemisacollectionofindependententitiesthatcooperatetosolveaproblemthatcannotbeindividuallysolvedDistributedsystemshavebeeninexistencesincethestartoftheuniverseFromaschooloffishtoaflockofbirdsandentireecosystemsofmicroorganismsthereiscommunicationamongmobileintelligentagentsinnatureWiththewidespreadproliferationoftheinternetandtheemergingglobalvillagethenotionofdistributedcomputingsystemsasausefulandwidelydeployedtoolisbecomingareality\")"
   ]
  },
  {
   "cell_type": "code",
   "execution_count": null,
   "id": "a6f7415a",
   "metadata": {},
   "outputs": [],
   "source": [
    "# num_trials = 100\n",
    "# Character Value Confusion Score: 0.92\n",
    "# Positional Diffusion Score: 1.03\n",
    "# DC Score: 0.97"
   ]
  }
 ],
 "metadata": {
  "kernelspec": {
   "display_name": "isProjectEnv",
   "language": "python",
   "name": "python3"
  },
  "language_info": {
   "codemirror_mode": {
    "name": "ipython",
    "version": 3
   },
   "file_extension": ".py",
   "mimetype": "text/x-python",
   "name": "python",
   "nbconvert_exporter": "python",
   "pygments_lexer": "ipython3",
   "version": "3.13.7"
  }
 },
 "nbformat": 4,
 "nbformat_minor": 5
}
